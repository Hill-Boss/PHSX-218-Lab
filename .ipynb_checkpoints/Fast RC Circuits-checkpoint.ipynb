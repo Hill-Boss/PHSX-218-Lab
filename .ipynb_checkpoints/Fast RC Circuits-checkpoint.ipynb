{
 "cells": [
  {
   "cell_type": "markdown",
   "metadata": {},
   "source": [
    "# Fast RC \n",
    "    - $ \\tau = RC $\n",
    "    - Time constant is very small\n",
    "    - Not able to measure w/ voltmeter & stopwatch\n",
    "    - 'Enter the Oscilloscope\n",
    "\n",
    "    - Oscilloscope ~= Voltmeter\n",
    "\n",
    "    - Function Generator ~= Power Supply & Switch\n",
    "\n",
    "# Steps:\n",
    "\n",
    "### 1. Walk through inro-Equip to learn how to use\n",
    "### 2. Single RC\n",
    "### 3. Experiment 2:\n",
    "    - Two caps in parallel\n",
    "\n",
    "### 4. Experiment 3:\n",
    "    - Two caps in series\n",
    "    \n",
    "### 5. Calculate \"theoretical\"  T\n",
    "    - for all three experiments based on direct measurements of R,C values\n"
   ]
  },
  {
   "cell_type": "code",
   "execution_count": 8,
   "metadata": {},
   "outputs": [],
   "source": [
    "import DataAnalytics as data\n",
    "import numpy as np"
   ]
  },
  {
   "cell_type": "code",
   "execution_count": 19,
   "metadata": {},
   "outputs": [
    {
     "name": "stdout",
     "output_type": "stream",
     "text": [
      "Single Theoretical:  9.93e-05 +- 9.930503511907139e-06 ; Measured:  0.00011541560327111708 +- 1e-05\n",
      "1.4142135623730951e-09\n",
      "Parallel Theoretical:  0.0001986 +- 1.404456478499779e-05 ; Measured:  0.00023083120654223416 +- 1e-05\n",
      "7.905694150420949e-10\n",
      "Series Theoretical:  4.965e-05 +- 7.850513518235607e-06 ; Measured:  5.770780163555854e-05 +- 1e-05\n"
     ]
    }
   ],
   "source": [
    "R = 9.93*1000 #Ohms\n",
    "C = 10*10**-9 #F\n",
    "T = R * C\n",
    "\n",
    "'>>>>>>>>>>>>>>>>>>>>>>>>>>>>>>>>>>>>>>>>>>>>>>>>>>>'\n",
    "\n",
    "Q = T\n",
    "const = np.array([1,1])\n",
    "delts = np.array([0.01*1000,1*10**-9])\n",
    "vals = np.array([R,C])\n",
    "dT_Tt = data.ruleFour(Q,const,delts,vals)\n",
    "dTt = 0.01/1000\n",
    "\n",
    "single_thalf = 0.08 #ms\n",
    "P1_T = single_thalf/1000/np.log(2)\n",
    "\n",
    "\n",
    "print(\"Single Theoretical: \",T, \"+-\",dT_Tt, \"; Measured: \",P1_T, \"+-\",dTt)\n",
    "\n",
    "'>>>>>>>>>>>>>>>>>>>>>>>>>>>>>>>>>>>>>>>>>>>>>>>>>>>'\n",
    "R = R\n",
    "C_p = 2*C\n",
    "T = R*C_p\n",
    "\n",
    "#Find Error in C\n",
    "dC = data.ruleThree(np.array([1*10**-9,1*10**-9]))\n",
    "\n",
    "#Find Error in T\n",
    "Q = T\n",
    "const = np.array([1,1])\n",
    "delts = np.array([0.01*1000,dC])\n",
    "vals = np.array([R,C_p])\n",
    "\n",
    "dT_Tt = data.ruleFour(Q,const,delts,vals)\n",
    "dTt = 0.01/1000\n",
    "\n",
    "parallel_thalf = 0.16 #ms\n",
    "P2_T = parallel_thalf/1000/np.log(2)\n",
    "\n",
    "print(\"Parallel Theoretical: \",T, \"+-\",dT_Tt, \"; Measured: \",P2_T,\"+-\",dTt)\n",
    "\n",
    "'>>>>>>>>>>>>>>>>>>>>>>>>>>>>>>>>>>>>>>>>>>>>>>>>>>>'\n",
    "R = R\n",
    "C_s = (1/2) * C\n",
    "T = R*C_s\n",
    "\n",
    "#Find Error in C\n",
    "Q_C = C_s\n",
    "const_C = np.array([1,1,-1])\n",
    "delts_C = np.array([1*10**-9,1*10**-9,dC])\n",
    "vals_C = np.array([C,C,2 * C])\n",
    "dC = data.ruleFour(Q_C,const_C,delts_C,vals_C)\n",
    "print(dC)\n",
    "\n",
    "#Find Error in T\n",
    "Q = T\n",
    "const = np.array([1,1])\n",
    "delts = np.array([0.01*1000,dC])\n",
    "vals = np.array([R,C_s])\n",
    "dT_Tt = data.ruleFour(Q,const,delts,vals)\n",
    "dTt = 0.01/1000\n",
    "series_thalf = 0.04 #ms\n",
    "P3_T = series_thalf/1000/np.log(2)\n",
    "\n",
    "print(\"Series Theoretical: \",T, \"+-\",dT_Tt, \"; Measured: \",P3_T,\"+-\",dTt)\n"
   ]
  },
  {
   "cell_type": "code",
   "execution_count": null,
   "metadata": {},
   "outputs": [],
   "source": []
  }
 ],
 "metadata": {
  "kernelspec": {
   "display_name": "Python 3",
   "language": "python",
   "name": "python3"
  },
  "language_info": {
   "codemirror_mode": {
    "name": "ipython",
    "version": 3
   },
   "file_extension": ".py",
   "mimetype": "text/x-python",
   "name": "python",
   "nbconvert_exporter": "python",
   "pygments_lexer": "ipython3",
   "version": "3.7.4"
  }
 },
 "nbformat": 4,
 "nbformat_minor": 4
}
