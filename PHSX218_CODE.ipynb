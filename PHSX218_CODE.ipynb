{
 "cells": [
  {
   "cell_type": "code",
   "execution_count": 1,
   "metadata": {},
   "outputs": [],
   "source": [
    "import numpy as np\n",
    "import pandas as pd\n",
    "import matplotlib.pyplot as plt\n"
   ]
  },
  {
   "cell_type": "markdown",
   "metadata": {},
   "source": [
    "Error Propagation Rules"
   ]
  },
  {
   "cell_type": "markdown",
   "metadata": {},
   "source": [
    "Rule #1 If $Q = cA$ where $c$ is a constant \n",
    "    (or a quantity with negligible uncertainty)\n",
    "\n",
    "Then \n",
    "\n",
    "$\\frac{\\delta Q}{|Q|} = \\frac{\\delta A}{|A|}$ or equivalently $\\delta Q = |c|\\delta A$"
   ]
  },
  {
   "cell_type": "code",
   "execution_count": 2,
   "metadata": {},
   "outputs": [],
   "source": [
    "def err_R1(c, err_A):\n",
    "    err_Q = np.abs(c)*err_A\n",
    "    return err_Q"
   ]
  },
  {
   "cell_type": "markdown",
   "metadata": {},
   "source": [
    "Rule #2 $Q = cA^m$ where $c$ and $m$ are constants\n",
    "\n",
    "Then\n",
    "\n",
    "$\\delta Q = |cmA^{(m-1)}|\\delta A$"
   ]
  },
  {
   "cell_type": "code",
   "execution_count": 3,
   "metadata": {},
   "outputs": [],
   "source": [
    "def err_R2(c, m, err_A):\n",
    "    err_Q = np.abs(c*m*A**(m-1))*err_A\n",
    "    return err_Q"
   ]
  },
  {
   "cell_type": "markdown",
   "metadata": {},
   "source": [
    "Rule #3 $Q = A + B$ or $Q = A - B$\n",
    "\n",
    "Then\n",
    "\n",
    "$\\delta Q = \\sqrt{(\\delta A)^2 + (\\delta B)^2}$"
   ]
  },
  {
   "cell_type": "code",
   "execution_count": 4,
   "metadata": {},
   "outputs": [],
   "source": [
    "def err_R3(deltas):\n",
    "    err_Q = np.sqrt(np.sum(deltas**2))\n",
    "    return err_Q"
   ]
  },
  {
   "cell_type": "markdown",
   "metadata": {},
   "source": [
    "Rule #4 $Q = cA^mB^n$ where $c, m,$ and $n$ are constants\n",
    "\n",
    "Then\n",
    "\n",
    "$\\delta Q = |Q|\\sqrt{(m\\frac{\\delta A}{A})^2 + (n\\frac{\\delta B}{B})^2}$"
   ]
  },
  {
   "cell_type": "code",
   "execution_count": 6,
   "metadata": {},
   "outputs": [],
   "source": [
    "def err_R4(Q, consts, deltas, vals):\n",
    "    err_Q = np.abs(Q)*np.sqrt(np.sum((consts*deltas/vals)**2))\n",
    "    return err_Q"
   ]
  },
  {
   "cell_type": "code",
   "execution_count": null,
   "metadata": {},
   "outputs": [],
   "source": []
  },
  {
   "cell_type": "code",
   "execution_count": 10,
   "metadata": {},
   "outputs": [],
   "source": [
    "def thermal_a(DL, L, Tf, Ti):\n",
    "    a = DL/(L*(Tf - Ti))\n",
    "    return a"
   ]
  },
  {
   "cell_type": "code",
   "execution_count": 21,
   "metadata": {},
   "outputs": [
    {
     "name": "stdout",
     "output_type": "stream",
     "text": [
      "1.7228309558266145e-05  1/°C ±  2.615307978828764e-07 1/°C\n"
     ]
    }
   ],
   "source": [
    "L = 1.05\n",
    "dL = 0.001 # 1 * 10**(-3)\n",
    "DL = 0.00125 # 1.25* 10**(-3)\n",
    "dDL = 0.00001 #0.01 * 10**(-3)\n",
    "Ti = 23.4 #degrees C\n",
    "Tf = 92.5\n",
    "dTi = 0.3\n",
    "dTf = 0.1\n",
    "\n",
    "a = thermal_a(DL, L, Tf, Ti)\n",
    "cons = np.array([1,-1,-1,-1])\n",
    "delt = np.array([dDL, dL, dTf, dTi])\n",
    "vals = np.array([DL, L, Tf, Ti])\n",
    "\n",
    "da = err_R4(a, cons, delt, vals)\n",
    "\n",
    "print(a, \" 1/°C ± \", da, \"1/°C\")\n"
   ]
  },
  {
   "cell_type": "code",
   "execution_count": null,
   "metadata": {},
   "outputs": [],
   "source": []
  }
 ],
 "metadata": {
  "kernelspec": {
   "display_name": "Python 3",
   "language": "python",
   "name": "python3"
  },
  "language_info": {
   "codemirror_mode": {
    "name": "ipython",
    "version": 3
   },
   "file_extension": ".py",
   "mimetype": "text/x-python",
   "name": "python",
   "nbconvert_exporter": "python",
   "pygments_lexer": "ipython3",
   "version": "3.6.5"
  }
 },
 "nbformat": 4,
 "nbformat_minor": 2
}
