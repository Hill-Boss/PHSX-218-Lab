{
 "cells": [
  {
   "cell_type": "code",
   "execution_count": 20,
   "metadata": {},
   "outputs": [
    {
     "data": {
      "text/plain": [
       "3909391.54644328"
      ]
     },
     "execution_count": 20,
     "metadata": {},
     "output_type": "execute_result"
    }
   ],
   "source": [
    "init_temp = 14\n",
    "room_temp = 22 # +- 1\n",
    "final_temp = 30\n",
    "err_temp = 1\n",
    "\n",
    "count=340\n",
    "\n",
    "diameter=4.77\n",
    "err_diam=0.00005\n",
    "\n",
    "radius=diameter / 2\n",
    "\n",
    "mass=201.8\n",
    "err_mass=0.1\n",
    "\n",
    "theta=2*np.pi*count\n",
    "T=radius*6.32*9.8\n",
    "W=T*theta\n",
    "\n",
    "Q = mass * (2.5*10**(-5)) * 16\n",
    "J = W/Q\n",
    "\n",
    "J"
   ]
  },
  {
   "cell_type": "code",
   "execution_count": 19,
   "metadata": {},
   "outputs": [
    {
     "data": {
      "text/plain": [
       "3909391.54644328"
      ]
     },
     "execution_count": 19,
     "metadata": {},
     "output_type": "execute_result"
    }
   ],
   "source": [
    "((radius*6.32*9.8)*theta)/(mass * (2.5*10**(-5))* 16)"
   ]
  }
 ],
 "metadata": {
  "kernelspec": {
   "display_name": "Python 3",
   "language": "python",
   "name": "python3"
  },
  "language_info": {
   "codemirror_mode": {
    "name": "ipython",
    "version": 3
   },
   "file_extension": ".py",
   "mimetype": "text/x-python",
   "name": "python",
   "nbconvert_exporter": "python",
   "pygments_lexer": "ipython3",
   "version": "3.6.5"
  }
 },
 "nbformat": 4,
 "nbformat_minor": 2
}
